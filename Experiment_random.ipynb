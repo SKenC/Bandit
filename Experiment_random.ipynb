{
 "cells": [
  {
   "cell_type": "code",
   "execution_count": 4,
   "metadata": {
    "scrolled": true
   },
   "outputs": [
    {
     "data": {
      "text/plain": [
       "update! (generic function with 5 methods)"
      ]
     },
     "execution_count": 4,
     "metadata": {},
     "output_type": "execute_result"
    }
   ],
   "source": [
    "#include(\"MAB_module.jl\")\n",
    "include(\"environment.jl\")\n",
    "include(\"algorithm_base.jl\")\n",
    "include(\"eps_greedy.jl\")\n",
    "include(\"rs.jl\")\n",
    "include(\"lsx.jl\")\n",
    "#include(\"meta-bandit.jl\")\n",
    "include(\"tompson_sampling.jl\")\n",
    "include(\"ucb1tuned.jl\")"
   ]
  },
  {
   "cell_type": "code",
   "execution_count": 5,
   "metadata": {
    "collapsed": true
   },
   "outputs": [],
   "source": [
    "using Plots\n",
    "using Statistics\n",
    "#using Base.Threads"
   ]
  },
  {
   "cell_type": "code",
   "execution_count": 6,
   "metadata": {
    "collapsed": true
   },
   "outputs": [],
   "source": [
    "mutable struct MYRS <: Algorithm\n",
    "    env::Environment\n",
    "    actionValues::Vector{Float64}\n",
    "    w::Vector{Float64}             #numbers of  rewards.\n",
    "    l::Vector{Float64}\n",
    "    average::Vector\n",
    "    r::Float64\n",
    "    gamma::Float64\n",
    "    alpha_r::Float64\n",
    "    opt::Bool\n",
    "    test_name::String\n",
    "    #constructor\n",
    "    function MYRS(;env::Environment, r::Float64, gamma::Float64, alpha_r::Float64, opt=false, test_name=\"\")\n",
    "        return new( env,\n",
    "                    zeros(env.arm_num),\n",
    "                    zeros(env.arm_num),\n",
    "                    zeros(env.arm_num),\n",
    "                    zeros(env.arm_num),\n",
    "                    r,\n",
    "                    gamma,\n",
    "                    alpha_r,\n",
    "                    opt,\n",
    "                    test_name)\n",
    "    end\n",
    "end"
   ]
  },
  {
   "cell_type": "code",
   "execution_count": 20,
   "metadata": {},
   "outputs": [
    {
     "data": {
      "text/plain": [
       "update! (generic function with 6 methods)"
      ]
     },
     "execution_count": 20,
     "metadata": {},
     "output_type": "execute_result"
    }
   ],
   "source": [
    "function init!(algo::MYRS)\n",
    "    algo.actionValues = zeros(algo.env.arm_num)\n",
    "    \n",
    "    for i=1:algo.env.arm_num\n",
    "        algo.w[i] = eps(0.0)\n",
    "        algo.l[i] = eps(0.0)\n",
    "    end\n",
    "    \n",
    "    if algo.opt\n",
    "        sorted_pro = sort(algo.env.arm_pros, rev=true)\n",
    "        algo.r = (sorted_pro[1] + sorted_pro[2]) / 2\n",
    "    else\n",
    "        algo.r = 1.\n",
    "    end\n",
    "end\n",
    "\n",
    "function select_arm(algo::MYRS)\n",
    "    #return index of maximum value in the action values.\n",
    "    min = minimum(algo.actionValues)\n",
    "    vals = [v-min for v in algo.actionValues]\n",
    "    if 2* > 0.\n",
    "        ran = rand(0.:vals)\n",
    "        sum = 0.\n",
    "        for i=1:algo.env.arm_num\n",
    "            sum += algo.actionValues[i]\n",
    "            if ran < sum\n",
    "                return i\n",
    "            end\n",
    "        end\n",
    "    end\n",
    "    \n",
    "    return rand(1:algo.env.arm_num)\n",
    "    #return greedy(algo)\n",
    "end\n",
    "\n",
    "function calc_value(algo::MYRS, selected, reward)\n",
    "    \n",
    "    algo.average[selected] = algo.w[selected]  / (algo.w[selected] + algo.l[selected])\n",
    "    \n",
    "    if !algo.opt\n",
    "        algo.r += algo.alpha_r * (algo.average[selected] - algo.r)\n",
    "        #algo.r += algo.alpha_r * (reward - algo.r)\n",
    "    end\n",
    "\n",
    "    \n",
    "    if algo.test_name == \"gamma\"\n",
    "        for i=1:algo.env.arm_num\n",
    "                algo.w[i] = algo.gamma * algo.w[i]\n",
    "                algo.l[i] = algo.gamma * algo.l[i]\n",
    "            \n",
    "                algo.actionValues[i] = (algo.w[i]+algo.l[i])*(algo.average[i] - algo.r)\n",
    "        end\n",
    "    else\n",
    "        algo.actionValues[selected] = algo.average[selected]#(algo.w[selected]+algo.l[selected])*(algo.average[selected] - algo.r)\n",
    "    end\n",
    "\n",
    "    #update this experiment's current state.\n",
    "    if reward == 1\n",
    "        algo.w[selected] += 1\n",
    "    else\n",
    "        algo.l[selected] += 1\n",
    "    end\n",
    "    \n",
    "\n",
    "    #@show algo.r selected\n",
    "end\n",
    "\n",
    "#update each variables and calc parameters for epsilon greedy algorithm\n",
    "function update!(algo::MYRS)\n",
    "    selected = select_arm(algo)\n",
    "    reward = get_reward(algo.env.arm_pros, selected)\n",
    "\n",
    "    #calculation of action value and save.\n",
    "    calc_value(algo, selected, reward)\n",
    "\n",
    "    #calc regret.\n",
    "    regret = algo.env.max_pro - algo.env.arm_pros[selected]\n",
    "\n",
    "    return selected, regret, reward\n",
    "\n",
    "end"
   ]
  },
  {
   "cell_type": "code",
   "execution_count": 21,
   "metadata": {},
   "outputs": [
    {
     "data": {
      "text/plain": [
       "simulation (generic function with 1 method)"
      ]
     },
     "execution_count": 21,
     "metadata": {},
     "output_type": "execute_result"
    }
   ],
   "source": [
    "function simulation(;sim_num::Int, steps::Int, update_pro::Float64, arm_num=4, dynamic=false)\n",
    "    env = Environment(arm_num)\n",
    "\n",
    "    algo_dict = Dict()\n",
    "    \n",
    "    for gamma=[0.999]\n",
    "        #gamma = 0.999\n",
    "        alpha = 0.0005\n",
    "        #alpha = 1/(10^i)\n",
    "        algo_dict[\"RS \\\\gamma\"] = MYRS(env=env, r=1., gamma=gamma, alpha_r=alpha, test_name=\"gamma\")\n",
    "    end\n",
    "    algo_dict[\"RS opt \\\\gamma\"] = MYRS(env=env, r=1., gamma=0.999, alpha_r=0.0005, opt=true, test_name=\"gamma\")\n",
    "    #algo_dict[\"RS opt\"] = MYRS(env=env, r=1., gamma=0.999, alpha_r=0.0005, opt=true)\n",
    "\n",
    "\n",
    "    algo_dict[\"RS\"] = RS(env)\n",
    "    #algo_dict[\"Tompson_sampling\"] = Tompson(env)\n",
    "    #algo_dict[\"UCB1-tuned\"] = UCB1(env, true)\n",
    "    \n",
    "    regret_means, win_means, action_vals = Vector{}(), Vector{}(), Vector{}()\n",
    "    for algorithm in values(algo_dict)\n",
    "        regrets, wins = zeros(sim_num, steps), zeros(sim_num, steps)\n",
    "        #action_val = Vector{}()\n",
    "        for sim in 1:sim_num\n",
    "            update_env!(env, rand(arm_num))\n",
    "            init!(algorithm)\n",
    "            regret = 0.\n",
    "            \n",
    "            for step in 1:steps-1\n",
    "                selected, rgt, reward = update!(algorithm)\n",
    "\n",
    "                #save each parameter.\n",
    "                regret += rgt\n",
    "                regrets[sim, step] = regret\n",
    "\n",
    "                if selected == env.correct_arm\n",
    "                    wins[sim, step] = 1\n",
    "                end\n",
    "                \n",
    "                if dynamic\n",
    "                    if rand() < update_pro\n",
    "                        update_env!(env, rand(arm_num))\n",
    "                        #reset_params(algorithm)\n",
    "                        if typeof(algorithm) == RS\n",
    "                            update_r!(algorithm)\n",
    "                        elseif typeof(algorithm) == LSX && algorithm.opt\n",
    "                            algorithm.r = opt_r(algorithm.env.arm_pros)\n",
    "                        elseif typeof(algorithm) == MYRS && algorithm.opt\n",
    "                            sorted_pro = sort(env.arm_pros, rev=true)\n",
    "                            algorithm.r = (sorted_pro[1] + sorted_pro[2]) / 2\n",
    "                        end\n",
    "                    end\n",
    "                end\n",
    "\n",
    "            end\n",
    "            if sim % 10 == 0\n",
    "                print(\"$((sim/sim_num)*100) %\")\n",
    "            end\n",
    "        end\n",
    "        push!(regret_means, [mean(regrets[:, i]) for i=1:steps])\n",
    "        push!(win_means, [mean(wins[:, i]) for i=1:steps])\n",
    "        #push!(action_vals, vcat(action_val...))\n",
    "        \n",
    "    end\n",
    "    \n",
    "    println(\"DONE.\")\n",
    "    \n",
    "    #@show action_vals\n",
    "\n",
    "    graph_data = hcat(win_means...)\n",
    "    time = Vector{Int}(1:steps)\n",
    "    #xscale=:log\n",
    "\n",
    "    #graph_data2 = vcat(rslist...)\n",
    "    #@show size(graph_data2)\n",
    "    graph_data2 = hcat(regret_means...)\n",
    "\n",
    "    return graph_data, graph_data2, algo_dict\n",
    "end"
   ]
  },
  {
   "cell_type": "code",
   "execution_count": 22,
   "metadata": {
    "scrolled": true
   },
   "outputs": [
    {
     "name": "stdout",
     "output_type": "stream",
     "text": [
      "10.0 %20.0 %30.0 %40.0 %50.0 %60.0 %70.0 %80.0 %90.0 %100.0 %10.0 %20.0 %30.0 %40.0 %50.0 %60.0 %70.0 %80.0 %90.0 %100.0 %10.0 %20.0 %30.0 %40.0 %50.0 %60.0 %70.0 %80.0 %90.0 %100.0 %DONE.\n",
      "  7.565741 seconds (278.60 M allocations: 5.107 GiB, 4.35% gc time)\n"
     ]
    }
   ],
   "source": [
    "@time g1, g2, algo_dict = simulation(sim_num=100,\n",
    "                            steps=10000,\n",
    "                            update_pro=1/10000,\n",
    "                            arm_num=20,\n",
    "                            dynamic=false);"
   ]
  },
  {
   "cell_type": "code",
   "execution_count": 23,
   "metadata": {},
   "outputs": [
    {
     "data": {
      "image/png": "[encoded data removed]"
     },
     "execution_count": 23,
     "metadata": {},
     "output_type": "execute_result"
    }
   ],
   "source": [
    "step_axis = [i for i=1:100:size(g1)[1]]\n",
    "graph = [g1[i, :] for i in step_axis]\n",
    "graph = hcat(graph...)'\n",
    "#plot(1:size(g1)[1], g1, label=[\"RS\",\"RS_tuned\"], title=\"Accuracy\")\n",
    "#plot(step_axis, graph, title=\"Accuracy\", label=[key for key in keys(algo_dict)], legend=:bottomright)\n",
    "labels = [key for key in keys(algo_dict)]\n",
    "plot(step_axis, graph, title=\"Accuracy\", label=labels, xlabel=\"step\",ylabel=\"accuracy\", legend=:bottomright, fmt=:png)"
   ]
  },
  {
   "cell_type": "code",
   "execution_count": 10,
   "metadata": {
    "collapsed": true
   },
   "outputs": [],
   "source": [
    "# step_axis2 = [i for i=1:10:size(g2)[1]]\n",
    "# graph2 = [g2[i, :] for i in step_axis2]\n",
    "# graph2 = hcat(graph2...)'\n",
    "# #plot(step_axis2, graph2)\n",
    "# plot(step_axis2, graph2, title=\"Regret\", label=[key for key in keys(algo_dict)], xlabel=\"step\",ylabel=\"regret\", legend=:bottomright)"
   ]
  },
  {
   "cell_type": "code",
   "execution_count": 37,
   "metadata": {
    "collapsed": true
   },
   "outputs": [],
   "source": [
    "using CSV\n",
    "using DataFrames"
   ]
  },
  {
   "cell_type": "code",
   "execution_count": 38,
   "metadata": {},
   "outputs": [
    {
     "data": {
      "text/plain": [
       "save_csv (generic function with 1 method)"
      ]
     },
     "execution_count": 38,
     "metadata": {},
     "output_type": "execute_result"
    }
   ],
   "source": [
    "include(\"data_save.jl\")"
   ]
  },
  {
   "cell_type": "code",
   "execution_count": 46,
   "metadata": {},
   "outputs": [
    {
     "data": {
      "text/plain": [
       "\"./exp_data/no_sync_non_steady_regret_1K_100K.csv\""
      ]
     },
     "execution_count": 46,
     "metadata": {},
     "output_type": "execute_result"
    }
   ],
   "source": [
    "save_csv(data=g2, file_name=\"./exp_data/no_sync_non_steady_regret_1K_100K.csv\", labels=labels)"
   ]
  },
  {
   "cell_type": "code",
   "execution_count": 43,
   "metadata": {
    "collapsed": true
   },
   "outputs": [],
   "source": [
    "#dataframe = CSV.read(\"./exp_data/no_sync_non_steady_accuracy_1K_100K_for_graph.csv\", delim=',');"
   ]
  },
  {
   "cell_type": "code",
   "execution_count": 44,
   "metadata": {
    "collapsed": true
   },
   "outputs": [],
   "source": [
    "#plot(dataframe[1], convert(Array, dataframe[[Symbol(str) for str in labels]]))"
   ]
  },
  {
   "cell_type": "code",
   "execution_count": null,
   "metadata": {
    "collapsed": true
   },
   "outputs": [],
   "source": []
  },
  {
   "cell_type": "code",
   "execution_count": 24,
   "metadata": {},
   "outputs": [
    {
     "ename": "MethodError",
     "evalue": "MethodError: no method matching +(::Array{Float64,1}, ::Float64)\nClosest candidates are:\n  +(::Any, ::Any, !Matched::Any, !Matched::Any...) at operators.jl:502\n  +(!Matched::Bool, ::T<:AbstractFloat) where T<:AbstractFloat at bool.jl:112\n  +(!Matched::Float64, ::Float64) at float.jl:395\n  ...",
     "output_type": "error",
     "traceback": [
      "MethodError: no method matching +(::Array{Float64,1}, ::Float64)\nClosest candidates are:\n  +(::Any, ::Any, !Matched::Any, !Matched::Any...) at operators.jl:502\n  +(!Matched::Bool, ::T<:AbstractFloat) where T<:AbstractFloat at bool.jl:112\n  +(!Matched::Float64, ::Float64) at float.jl:395\n  ...",
      "",
      "Stacktrace:",
      " [1] top-level scope at In[24]:1"
     ]
    }
   ],
   "source": []
  },
  {
   "cell_type": "code",
   "execution_count": null,
   "metadata": {
    "collapsed": true
   },
   "outputs": [],
   "source": []
  }
 ],
 "metadata": {
  "kernelspec": {
   "display_name": "Julia 1.0.0",
   "language": "julia",
   "name": "julia-1.0"
  },
  "language_info": {
   "file_extension": ".jl",
   "mimetype": "application/julia",
   "name": "julia",
   "version": "1.0.0"
  }
 },
 "nbformat": 4,
 "nbformat_minor": 2
}
