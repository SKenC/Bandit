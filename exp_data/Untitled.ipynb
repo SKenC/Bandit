{
 "cells": [
  {
   "cell_type": "code",
   "execution_count": 88,
   "metadata": {},
   "outputs": [
    {
     "data": {
      "text/plain": [
       "<matplotlib.figure.Figure at 0x7faaea9f0ac8>"
      ]
     },
     "execution_count": 88,
     "metadata": {},
     "output_type": "execute_result"
    }
   ],
   "source": [
    "import pandas as pd\n",
    "import matplotlib.pyplot as plt\n",
    "\n",
    "plt.figure(figsize=(20, 15), dpi=50)"
   ]
  },
  {
   "cell_type": "code",
   "execution_count": 89,
   "metadata": {
    "collapsed": true
   },
   "outputs": [],
   "source": [
    "st = pd.read_csv('teijo_accuracy_1K_100K.csv')[99900:-1]\n",
    "non_st = pd.read_csv('hiteijo_accuracy_1K_100K.csv')[99900:-1]"
   ]
  },
  {
   "cell_type": "code",
   "execution_count": 90,
   "metadata": {
    "collapsed": true
   },
   "outputs": [],
   "source": [
    "no_sync = pd.read_csv('no_sync_non_steady_accuracy_1K_100K.csv')[99900:-1]\n",
    "no_sync = no_sync.drop(\"step\", axis=1)\n",
    "no_sync_means = no_sync.mean(axis=0)"
   ]
  },
  {
   "cell_type": "code",
   "execution_count": 91,
   "metadata": {
    "collapsed": true
   },
   "outputs": [],
   "source": [
    "st = st.drop(\"step\", axis=1)\n",
    "non_st = non_st.drop(\"step\", axis=1)\n",
    "# plt.plot(df)\n",
    "# plt.show()\n",
    "st_means = st.mean(axis=0)\n",
    "non_st_means = non_st.mean(axis=0)"
   ]
  },
  {
   "cell_type": "code",
   "execution_count": 92,
   "metadata": {
    "collapsed": true
   },
   "outputs": [],
   "source": [
    "fig = plt.figure(figsize=(7,7))\n",
    "\n",
    "ax = fig.add_subplot(1,1,1)\n",
    "\n",
    "names = st.columns.values\n",
    "for i in range(len(names)):\n",
    "    ax.scatter(st_means[names[i]], non_st_means[names[i]])"
   ]
  },
  {
   "cell_type": "code",
   "execution_count": 93,
   "metadata": {
    "collapsed": true
   },
   "outputs": [],
   "source": [
    "#add no sync data to the graph\n",
    "for i in range(len(names)):\n",
    "    ax.scatter(st_means[names[i]], no_sync_means[names[i]])\n",
    "    \n",
    "# for i,(x,y) in enumerate(zip(st_means , no_sync_means)):\n",
    "#     ax.annotate(names[i],(x,y))\n",
    "\n",
    "for i in range(len(names)):\n",
    "    x = st_means[names[i]]\n",
    "    y = non_st_means[names[i]]\n",
    "    dx = 0\n",
    "    dy = no_sync_means[names[i]] - y\n",
    "    ax.arrow(x, y, dx, dy, width=0.0002, color='black', head_length=0.0, head_width=0.0)\n",
    "    #plt.plot(st_means[names[i]], non_st_means[names[i]])\n",
    "    \n",
    "for i,(x,y) in enumerate(zip(st_means , no_sync_means)):\n",
    "    ax.annotate(\"no sync\",(x,y-0.03))"
   ]
  },
  {
   "cell_type": "code",
   "execution_count": 94,
   "metadata": {
    "collapsed": true
   },
   "outputs": [],
   "source": [
    "names[3] = 'RS$\\gamma$'\n",
    "names[4] = 'RSopt$\\gamma$'\n",
    "names[1] = 'TS'\n",
    "for i,(x,y) in enumerate(zip(st_means , non_st_means)):\n",
    "    ax.annotate(names[i],(x,y+0.01))"
   ]
  },
  {
   "cell_type": "code",
   "execution_count": 95,
   "metadata": {},
   "outputs": [
    {
     "data": {
      "text/plain": [
       "<matplotlib.figure.Figure at 0x7faaea9f0ac8>"
      ]
     },
     "metadata": {},
     "output_type": "display_data"
    },
    {
     "data": {
      "image/png": "[encoded data removed]",
      "text/plain": [
       "<matplotlib.figure.Figure at 0x7faaf0701cf8>"
      ]
     },
     "metadata": {},
     "output_type": "display_data"
    }
   ],
   "source": [
    "#plt.xlim(0.0, 1.0)\n",
    "#plt.ylim(0.0, 1.0)\n",
    "plt.xlabel(\"steady\")\n",
    "plt.ylabel(\"non-steady\")\n",
    "plt.show()"
   ]
  },
  {
   "cell_type": "code",
   "execution_count": null,
   "metadata": {
    "collapsed": true
   },
   "outputs": [],
   "source": []
  },
  {
   "cell_type": "code",
   "execution_count": null,
   "metadata": {
    "collapsed": true
   },
   "outputs": [],
   "source": []
  }
 ],
 "metadata": {
  "kernelspec": {
   "display_name": "Python 3",
   "language": "python",
   "name": "python3"
  },
  "language_info": {
   "codemirror_mode": {
    "name": "ipython",
    "version": 3
   },
   "file_extension": ".py",
   "mimetype": "text/x-python",
   "name": "python",
   "nbconvert_exporter": "python",
   "pygments_lexer": "ipython3",
   "version": "3.6.1"
  }
 },
 "nbformat": 4,
 "nbformat_minor": 2
}
